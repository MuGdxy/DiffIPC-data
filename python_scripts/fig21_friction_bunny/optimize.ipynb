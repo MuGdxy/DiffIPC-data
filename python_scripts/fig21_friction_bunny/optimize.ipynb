{
 "cells": [
  {
   "cell_type": "code",
   "execution_count": null,
   "metadata": {},
   "outputs": [],
   "source": [
    "import os, json, torch, time, sys\n",
    "import polyfempy as pf\n",
    "import torch.optim as optim\n",
    "\n",
    "torch.set_default_dtype(torch.float64)"
   ]
  },
  {
   "cell_type": "code",
   "execution_count": null,
   "metadata": {},
   "outputs": [],
   "source": [
    "\n",
    "class Simulate(torch.autograd.Function):\n",
    "\n",
    "    @staticmethod\n",
    "    def forward(ctx, solver, fric):\n",
    "        # Update solver setup\n",
    "        solver.set_friction_coefficient(float(fric[0]))\n",
    "\n",
    "        # Enable caching intermediate variables in the simulation, which will be used for solve_adjoint\n",
    "        solver.set_cache_level(pf.CacheLevel.Derivatives)\n",
    "        # Run simulation\n",
    "        solver.solve()\n",
    "        # Collect transient simulation solutions\n",
    "        sol = torch.tensor(solver.get_solutions())\n",
    "        # Cache solver for backward gradient propagation\n",
    "        ctx.solver = solver\n",
    "        return sol\n",
    "\n",
    "    @staticmethod\n",
    "    @torch.autograd.function.once_differentiable\n",
    "    def backward(ctx, grad_output):\n",
    "        # solve_adjoint only needs to be called once per solver, independent of number of types of optimization variables\n",
    "        ctx.solver.solve_adjoint(grad_output)\n",
    "        # Compute initial derivatives\n",
    "        grads = torch.tensor([pf.friction_coefficient_derivative(ctx.solver)])\n",
    "        return None, grads\n"
   ]
  },
  {
   "cell_type": "code",
   "execution_count": null,
   "metadata": {},
   "outputs": [],
   "source": [
    "log_level = 3 # warning\n",
    "\n",
    "def create_solver(args):\n",
    "    solver = pf.Solver()\n",
    "    solver.set_settings(json.dumps(args), True)\n",
    "    solver.set_log_level(log_level)\n",
    "    solver.load_mesh_from_settings()\n",
    "    return solver"
   ]
  },
  {
   "cell_type": "code",
   "execution_count": null,
   "metadata": {},
   "outputs": [],
   "source": [
    "root = \".\"\n",
    "with open(root + \"/run.json\", \"r\") as f:\n",
    "    config = json.load(f)\n",
    "    config[\"root_path\"] = root + \"/run.json\"\n",
    "\n",
    "# Simulation\n",
    "solver1 = create_solver(config)\n",
    "config[\"contact\"][\"friction_coefficient\"] = 0.1\n",
    "solver2 = create_solver(config)\n",
    "\n",
    "param = torch.tensor([0.2], requires_grad=True)\n",
    "solution2 = Simulate.apply(solver2, torch.tensor([0.1]))\n",
    "\n",
    "def loss(param):\n",
    "    solution1 = Simulate.apply(solver1, param)\n",
    "    ndof = solution1.shape[0] / 3\n",
    "\n",
    "    return ((torch.sum(solution1[:, -1].view(-1, 3), dim=1)[2] / ndof - torch.sum(solution2[:, -1].view(-1, 3), dim=1)[2] / ndof) ** 2) * 100000"
   ]
  },
  {
   "cell_type": "code",
   "execution_count": null,
   "metadata": {},
   "outputs": [],
   "source": [
    "def verify_grad(input):\n",
    "    param = input.clone().detach().requires_grad_(True)\n",
    "    theta = torch.tensor([1.])\n",
    "    l = loss(param)\n",
    "    l.backward()\n",
    "    grad = param.grad\n",
    "    t = 1e-6\n",
    "    with torch.no_grad():\n",
    "        analytic = torch.sum(grad * theta)\n",
    "        f1 = loss(param + theta * t)\n",
    "        f2 = loss(param - theta * t)\n",
    "        fd = (f1 - f2) / (2 * t)\n",
    "        print(f'grad {analytic}, fd {fd} {(f1 - l) / t} {(l - f2) / t}, relative err {abs(analytic - fd) / abs(analytic):.3e}')\n",
    "        print(f'f(x+dx)={f1}, f(x)={l.detach()}, f(x-dx)={f2}')\n",
    "        assert(abs(analytic - fd) <= 1e-3 * abs(analytic))\n",
    "\n",
    "# verify_grad(param)"
   ]
  },
  {
   "cell_type": "code",
   "execution_count": null,
   "metadata": {},
   "outputs": [],
   "source": [
    "def save_to_file(x, iter, out_dir):\n",
    "    sys.stdout.flush()\n",
    "    outpath = os.path.join(out_dir, \"iter_\" + str(iter) + \".vtu\")\n",
    "    print(\"Save to\", outpath)\n",
    "    solver1.export_vtu(outpath, solver1.get_solutions())"
   ]
  },
  {
   "cell_type": "code",
   "execution_count": null,
   "metadata": {},
   "outputs": [],
   "source": [
    "# optimizer = optim.LBFGS([param], lr=0.2, line_search_fn='strong_wolfe')\n",
    "optimizer = optim.Adam([param], lr=0.1)\n",
    "\n",
    "# optimization configuration\n",
    "out_dir = \"./opt\"\n",
    "if os.path.exists(out_dir):\n",
    "    os.system(\"rm -r \" + out_dir)\n",
    "os.mkdir(out_dir)\n",
    "\n",
    "# run simulation and compute loss\n",
    "def closure():\n",
    "    optimizer.zero_grad()\n",
    "    l = loss(param)\n",
    "    l.backward()\n",
    "    return l\n",
    "\n",
    "start_time = time.time()\n",
    "out_dir = os.path.join(os.getcwd(), \"opt\")\n",
    "if os.path.exists(out_dir):\n",
    "    os.system(\"rm -r \" + out_dir)\n",
    "os.mkdir(out_dir)\n",
    "for iter in range(15):\n",
    "    last_loss = closure()\n",
    "    print(\"friction coefficient\", param[0].detach().numpy())\n",
    "    print(f'Step {iter}: energy {last_loss:.4e}, grad norm {torch.linalg.norm(param.grad):.4e}, total time {time.time() - start_time:.2f} sec')\n",
    "    # save_to_file(param, iter, out_dir)\n",
    "\n",
    "    if last_loss < 1e-6:\n",
    "        break\n",
    "\n",
    "    # Let optimizer take a step\n",
    "    optimizer.step()\n",
    "    if param[0] <= 0:\n",
    "        with torch.no_grad():\n",
    "            param[0] = 0.05\n",
    "\n",
    "print(\"Optimization finished!\")"
   ]
  },
  {
   "cell_type": "code",
   "execution_count": null,
   "metadata": {},
   "outputs": [],
   "source": []
  }
 ],
 "metadata": {
  "kernelspec": {
   "display_name": "diffipc",
   "language": "python",
   "name": "python3"
  },
  "language_info": {
   "codemirror_mode": {
    "name": "ipython",
    "version": 3
   },
   "file_extension": ".py",
   "mimetype": "text/x-python",
   "name": "python",
   "nbconvert_exporter": "python",
   "pygments_lexer": "ipython3",
   "version": "3.10.16"
  }
 },
 "nbformat": 4,
 "nbformat_minor": 2
}
